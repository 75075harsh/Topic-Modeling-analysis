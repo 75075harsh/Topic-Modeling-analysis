{
 "cells": [
  {
   "cell_type": "code",
   "execution_count": 1,
   "id": "ec8bcb45-36e5-4592-97a3-769a4ce9c938",
   "metadata": {},
   "outputs": [
    {
     "name": "stdout",
     "output_type": "stream",
     "text": [
      "  feedback_id  student_name                course_name  \\\n",
      "0      FB-001   Aarav Singh           AI for Beginners   \n",
      "1      FB-002  Meera Sharma   Machine Learning Mastery   \n",
      "2      FB-003   Rohit Gupta  Deep Learning with Python   \n",
      "3      FB-004  Anjali Verma             AI in Business   \n",
      "4      FB-005   Karan Patel             NLP Essentials   \n",
      "\n",
      "                                       feedback_text  rating        date  \n",
      "0  The course content is well-structured and appr...       4  2025-01-12  \n",
      "1  Loved the practical labs and clear explanation...       4  2025-02-27  \n",
      "2  Excellent depth on CNNs and RNNs, though the p...       5  2025-03-18  \n",
      "3  Insightful case studies and business relevance...       4  2025-04-05  \n",
      "4  Clear explanations and good practical demos. T...       4  2025-04-28  \n"
     ]
    }
   ],
   "source": [
    "import pandas as pd\n",
    "\n",
    "# Replace 'your_file_path.xlsx' with the actual path to your Excel file.\n",
    "# If the file is in the same directory as your Jupyter notebook, you only need the file name.\n",
    "file_path = r\"C:\\Users\\ASUS\\OneDrive\\Desktop\\delhi_ai_courses_student_feedback_200.xlsx\"\n",
    "\n",
    "\n",
    "# Read the Excel file into a pandas DataFrame.\n",
    "df = pd.read_excel(file_path)\n",
    "\n",
    "# Display the first 5 rows of the DataFrame to verify the import.\n",
    "print(df.head())"
   ]
  },
  {
   "cell_type": "code",
   "execution_count": 2,
   "id": "773b7ee1-d121-4166-9b80-338f1faee67c",
   "metadata": {},
   "outputs": [
    {
     "name": "stdout",
     "output_type": "stream",
     "text": [
      "                                       feedback_text  dominant_topic\n",
      "0  The course content is well-structured and appr...               1\n",
      "1  Loved the practical labs and clear explanation...               5\n",
      "2  Excellent depth on CNNs and RNNs, though the p...               3\n",
      "3  Insightful case studies and business relevance...               2\n",
      "4  Clear explanations and good practical demos. T...               1\n"
     ]
    }
   ],
   "source": [
    "import pandas as pd\n",
    "from sklearn.feature_extraction.text import TfidfVectorizer\n",
    "from sklearn.decomposition import NMF\n",
    "\n",
    "# --- 1. Setup ---\n",
    "text_column = 'feedback_text'  # Replace with your text column name\n",
    "num_topics = 5               # Replace with the desired number of topics\n",
    "\n",
    "# --- 2. Vectorize and Apply NMF ---\n",
    "vectorizer = TfidfVectorizer(max_df=0.95, min_df=2, stop_words='english')\n",
    "tfidf_matrix = vectorizer.fit_transform(df[text_column])\n",
    "\n",
    "nmf_model = NMF(n_components=num_topics, random_state=42)\n",
    "topic_results = nmf_model.fit_transform(tfidf_matrix)\n",
    "\n",
    "# --- 3. Assign Dominant Topic ---\n",
    "# The .argmax(axis=1) finds the index (topic) with the highest score for each row.\n",
    "df['dominant_topic'] = topic_results.argmax(axis=1) + 1 # Adding 1 to make topics 1-based\n",
    "\n",
    "# --- 4. Display Results ---\n",
    "print(df[[text_column, 'dominant_topic']].head())"
   ]
  },
  {
   "cell_type": "code",
   "execution_count": 3,
   "id": "a8e5ba04-898d-4ab0-9f4d-cdff0f0ab865",
   "metadata": {},
   "outputs": [
    {
     "name": "stdout",
     "output_type": "stream",
     "text": [
      "DataFrame with topic modeling results saved to 'topic_modeling_output.xlsx'\n"
     ]
    }
   ],
   "source": [
    "# Define the name for the new Excel file.\n",
    "output_filename = 'topic_modeling_output.xlsx'\n",
    "\n",
    "# Save the DataFrame to an Excel file.\n",
    "# The `index=False` argument prevents pandas from writing the DataFrame index as a column.\n",
    "df.to_excel(output_filename, index=False)\n",
    "\n",
    "print(f\"DataFrame with topic modeling results saved to '{output_filename}'\")"
   ]
  }
 ],
 "metadata": {
  "kernelspec": {
   "display_name": "Python [conda env:base] *",
   "language": "python",
   "name": "conda-base-py"
  },
  "language_info": {
   "codemirror_mode": {
    "name": "ipython",
    "version": 3
   },
   "file_extension": ".py",
   "mimetype": "text/x-python",
   "name": "python",
   "nbconvert_exporter": "python",
   "pygments_lexer": "ipython3",
   "version": "3.13.5"
  }
 },
 "nbformat": 4,
 "nbformat_minor": 5
}
